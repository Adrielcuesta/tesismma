{
 "cells": [
  {
   "cell_type": "markdown",
   "metadata": {},
   "source": [
    "# Cuaderno de Documentación: 07 - Generación de Dashboard HTML (`dashboard_generator.py`)\n",
    "\n",
    "El módulo `scripts/dashboard_generator.py` introduce una capa de visualización para los resultados del análisis de riesgos. Su principal función es tomar el archivo JSON generado por `report_utils.py` y transformarlo en un dashboard HTML interactivo y fácil de leer, que presente la información de manera clara y visualmente atractiva.\n",
    "\n",
    "## Funcionalidad Principal\n",
    "\n",
    "**`generar_dashboard_html(ruta_json_resultados, ruta_output_dashboard_html, lista_pdfs_base_conocimiento)`:**\n",
    "\n",
    "* **Propósito:** Crear un archivo HTML que sirva como un panel de control visual para los riesgos identificados.\n",
    "* **Entradas:**\n",
    "    * `ruta_json_resultados`: La ruta completa al archivo JSON que contiene los datos del análisis (generado por la Etapa 7).\n",
    "    * `ruta_output_dashboard_html`: La ruta completa donde se guardará el archivo HTML del dashboard.\n",
    "    * `lista_pdfs_base_conocimiento`: Una lista de los nombres de los archivos PDF que componen la base de conocimiento, para ser listados en el pie de página del dashboard.\n",
    "* **Proceso:**\n",
    "    1.  **Lectura de Datos:** Abre y parsea el archivo JSON especificado para extraer el nombre del proyecto analizado y la lista de riesgos estructurados.\n",
    "    2.  **Estructura HTML:** Comienza a construir una cadena de texto que contendrá el código HTML completo del dashboard.\n",
    "        * Incluye una cabecera (`<head>`) con metadatos básicos, el título de la página y un bloque `<style>` con CSS para dar formato al dashboard.\n",
    "        * El CSS define la apariencia del cuerpo, el contenedor principal del header, el contenedor de las tarjetas de riesgo (usando CSS Grid para un diseño responsivo), y el estilo individual de cada tarjeta de riesgo, así como el pie de página.\n",
    "    3.  **Header del Dashboard:** Crea una sección de encabezado que muestra el título principal \"Análisis de Riesgos del Proyecto\" y, debajo, el nombre del proyecto que fue analizado (extraído del JSON).\n",
    "    4.  **Generación de Tarjetas de Riesgo:**\n",
    "        * Itera sobre cada riesgo en la lista `riesgos_identificados_estructurados` del JSON.\n",
    "        * Para cada riesgo, extrae la descripción, explicación, impacto estimado, probabilidad estimada y el `estado_RAG_sugerido`.\n",
    "        * Crea un `<div>` con la clase `risk-card`. Se le añade una clase de color específica (ej. `border-rojo`, `border-ambar`, `border-verde`, `border-gris`) basada en el `estado_RAG_sugerido`. Esta clase CSS aplicará un borde izquierdo coloreado a la tarjeta.\n",
    "        * Dentro de la tarjeta, se muestra la descripción del riesgo como un título (`<h3>`), seguida de la explicación y los detalles de impacto y probabilidad.\n",
    "    5.  **Información de la Base de Conocimiento:**\n",
    "        * Crea una sección de pie de página (`<div class=\"footer-info\">`).\n",
    "        * Lista los nombres de los archivos PDF proporcionados en `lista_pdfs_base_conocimiento`.\n",
    "    6.  **Guardado del Archivo HTML:** Escribe la cadena HTML completa en el archivo especificado por `ruta_output_dashboard_html`.\n",
    "* **Salida:** Un archivo `.html` guardado en el disco, que puede ser abierto en cualquier navegador web.\n",
    "\n",
    "## Estilo y Diseño\n",
    "\n",
    "El dashboard utiliza CSS simple para:\n",
    "* Una tipografía legible y moderna.\n",
    "* Un diseño de tarjetas que se adaptan al ancho de la pantalla (responsivo).\n",
    "* Colores distintivos para los bordes de las tarjetas según la severidad del riesgo (Rojo, Ámbar, Verde, Gris), lo que permite una rápida identificación visual de los riesgos más críticos.\n",
    "* Secciones claras para el encabezado, el contenido principal (riesgos) y el pie de página (documentos de la base de conocimiento).\n",
    "\n",
    "A continuación, se muestra el contenido del script `dashboard_generator.py` para referencia."
   ]
  },
  {
   "cell_type": "code",
   "execution_count": null,
   "metadata": {},
   "outputs": [],
   "source": [
    "# Cargar el contenido del script dashboard_generator.py\n",
    "%load ../scripts/dashboard_generator.py"
   ]
  }
 ],
 "metadata": {
  "kernelspec": {
   "display_name": "Python 3 (ipykernel)",
   "language": "python",
   "name": "python3"
  },
  "language_info": {
   "codemirror_mode": {
    "name": "ipython",
    "version": 3
   },
   "file_extension": ".py",
   "mimetype": "text/x-python",
   "name": "python",
   "nbconvert_exporter": "python",
   "pygments_lexer": "ipython3",
   "version": "3.10.12"
  }
 },
 "nbformat": 4,
 "nbformat_minor": 5
}
