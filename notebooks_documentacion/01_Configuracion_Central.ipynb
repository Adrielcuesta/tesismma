{
 "cells": [
  {
   "cell_type": "markdown",
   "metadata": {},
   "source": [
    "# Cuaderno de Documentación: 01 - Configuración Central (`config.py`)\n",
    "\n",
    "El archivo `scripts/config.py` es el corazón de la configuración de nuestro proyecto RAG. Centraliza todas las variables importantes, rutas de directorios y parámetros de procesamiento para que sean fácilmente accesibles y modificables desde un único lugar. Esto mejora la mantenibilidad y la claridad del código.\n",
    "\n",
    "## Responsabilidades Principales de `config.py`\n",
    "\n",
    "1.  **Carga de la API Key de Gemini:**\n",
    "    * Utiliza la biblioteca `python-dotenv` para cargar la `GEMINI_API_KEY` desde un archivo `.env` ubicado en la raíz del proyecto (`D:/tesismma/.env`). Este método es seguro ya que el archivo `.env` no se incluye en el control de versiones (gracias a `.gitignore`).\n",
    "    * Configura la API de Google Generative AI (`genai.configure(api_key=GEMINI_API_KEY)`).\n",
    "\n",
    "2.  **Definición de Rutas del Proyecto:**\n",
    "    * Establece la ruta raíz del proyecto (`PROJECT_ROOT`) y el directorio principal de datos (`DATA_DIR`).\n",
    "    * Define rutas específicas para las subcarpetas de datos: `DOCS_BASE_CONOCIMIENTO_PATH`, `PROYECTO_A_ANALIZAR_PATH`, `CHROMA_DB_PATH` y `OUTPUT_PATH`.\n",
    "    * Todas las rutas se construyen de forma relativa a la ubicación del proyecto, asegurando portabilidad.\n",
    "\n",
    "3.  **Parámetros de Procesamiento:**\n",
    "    * Define constantes clave para el procesamiento de texto y la configuración del RAG, tales como:\n",
    "        * `CHUNK_SIZE`: El tamaño de los fragmentos de texto.\n",
    "        * `CHUNK_OVERLAP`: El solapamiento entre fragmentos consecutivos.\n",
    "        * `EMBEDDING_MODEL_NAME`: El nombre del modelo de sentence-transformers para generar embeddings.\n",
    "        * `LLM_MODEL_NAME`: El identificador del modelo Gemini a utilizar.\n",
    "        * `K_RETRIEVED_DOCS`: El número de documentos relevantes a recuperar de la base de conocimiento.\n",
    "        * `NOMBRE_PDF_PROYECTO_ANALIZAR`: El nombre del archivo PDF que contiene la descripción del proyecto a analizar.\n",
    "        * `MAX_CHARS_PROYECTO`: Límite de caracteres para la descripción del proyecto enviada al LLM.\n",
    "\n",
    "4.  **Control de la Base de Datos Vectorial:**\n",
    "    * Incluye una variable booleana `RECREAR_DB`. Si es `True`, la base de datos ChromaDB existente se eliminará y se creará una nueva. Si es `False` (valor por defecto), el sistema intentará cargar la base de datos existente. Esto es útil para forzar una reconstrucción de la base de conocimiento después de actualizar los documentos fuente.\n",
    "\n",
    "5.  **Funciones de Utilidad:**\n",
    "    * `configure_google_api()`: Encapsula la lógica de configuración de la API de Gemini.\n",
    "    * `inicializar_directorios_datos()`: Crea las carpetas de datos necesarias (`BaseConocimiento`, `ProyectoAnalizar`, `ChromaDB_V1`, `Resultados`) si no existen.\n",
    "\n",
    "## Importancia del Archivo `.env`\n",
    "\n",
    "El archivo `.env` (ubicado en `D:/tesismma/.env`) es crucial para la seguridad de tu API Key. Debe contener:\n",
    "```\n",
    "GEMINI_API_KEY=\"TU_API_KEY_REAL_AQUI\"\n",
    "```\n",
    "Este archivo **NUNCA** debe ser subido a un repositorio Git. El archivo `.gitignore` ya está configurado para excluirlo.\n",
    "\n",
    "A continuación, se muestra el contenido del script `config.py` para referencia."
   ]
  },
  {
   "cell_type": "code",
   "execution_count": null,
   "metadata": {},
   "outputs": [],
   "source": [
    "# Cargar el contenido del script config.py\n",
    "# Asegúrate de que la ruta relativa sea correcta desde la ubicación de este notebook.\n",
    "%load ../scripts/config.py"
   ]
  }
 ],
 "metadata": {
  "kernelspec": {
   "display_name": "Python 3 (ipykernel)",
   "language": "python",
   "name": "python3"
  },
  "language_info": {
   "codemirror_mode": {
    "name": "ipython",
    "version": 3
   },
   "file_extension": ".py",
   "mimetype": "text/x-python",
   "name": "python",
   "nbconvert_exporter": "python",
   "pygments_lexer": "ipython3",
   "version": "3.10.12"
  }
 },
 "nbformat": 4,
 "nbformat_minor": 5
}
