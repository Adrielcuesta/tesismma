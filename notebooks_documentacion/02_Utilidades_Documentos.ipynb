{
 "cells": [
  {
   "cell_type": "markdown",
   "metadata": {},
   "source": [
    "# Cuaderno de Documentación: 02 - Utilidades de Documentos (`document_utils.py`)\n",
    "\n",
    "El módulo `scripts/document_utils.py` es fundamental para la ingesta y preparación de los datos textuales que alimentan nuestro sistema RAG. Proporciona las herramientas necesarias para cargar el contenido de los archivos PDF, tanto para la base de conocimiento como para el documento del proyecto a analizar, y para dividirlos en fragmentos manejables.\n",
    "\n",
    "## Funcionalidades Principales\n",
    "\n",
    "1.  **`cargar_y_procesar_pdfs_de_carpeta(carpeta_path, chunk_size, chunk_overlap)`:**\n",
    "    * **Propósito:** Cargar y procesar todos los documentos PDF ubicados en una carpeta específica, típicamente la `BaseConocimiento`.\n",
    "    * **Proceso:**\n",
    "        * Verifica si la carpeta especificada existe.\n",
    "        * Itera sobre cada archivo en la carpeta. Si es un PDF, utiliza `PyMuPDFLoader` de LangChain para extraer su contenido. `PyMuPDFLoader` trata cada página del PDF como un objeto `Document` individual de LangChain.\n",
    "        * A cada `Document` (página) se le añaden metadatos importantes:\n",
    "            * `source_document`: El nombre del archivo PDF original de donde proviene la página.\n",
    "            * `page_number`: El número de la página (1-indexado para facilidad de referencia).\n",
    "        * Una vez que todas las páginas de todos los PDFs han sido cargadas, se utiliza `RecursiveCharacterTextSplitter`.\n",
    "        * Este divisor de texto fragmenta el contenido de los documentos en trozos más pequeños (`chunks`) según el `chunk_size` (tamaño del fragmento) y `chunk_overlap` (cantidad de texto que se solapa entre fragmentos consecutivos para mantener el contexto).\n",
    "        * La función `len` se usa para medir la longitud de los fragmentos, y `add_start_index=True` añade un índice que indica dónde comienza cada fragmento dentro del documento original.\n",
    "    * **Retorno:** Una lista de objetos `Document`, donde cada objeto representa un fragmento de texto con sus metadatos asociados.\n",
    "\n",
    "2.  **`procesar_pdf_proyecto_para_analisis(ruta_pdf_proyecto, chunk_size, chunk_overlap, max_chars_proyecto)`:**\n",
    "    * **Propósito:** Cargar, procesar y preparar el contenido del PDF que describe el nuevo proyecto para ser enviado como consulta al sistema RAG.\n",
    "    * **Proceso:**\n",
    "        * Verifica si el archivo PDF especificado existe.\n",
    "        * Utiliza `PyMuPDFLoader` para cargar el contenido del PDF del proyecto.\n",
    "        * Aplica el mismo `RecursiveCharacterTextSplitter` (con los mismos `chunk_size` y `chunk_overlap`) para fragmentar el contenido del proyecto.\n",
    "        * Concatena el `page_content` de todos los fragmentos generados del PDF del proyecto en una única cadena de texto. Esta cadena representa la descripción completa del \"nuevo proyecto\" que se enviará al LLM.\n",
    "        * Si la longitud de esta cadena de texto excede `max_chars_proyecto` (un límite definido en `config.py` para evitar exceder los límites de tokens de la API del LLM), la cadena se trunca.\n",
    "    * **Retorno:** Una cadena de texto que contiene la descripción procesada y posiblemente truncada del proyecto a analizar, o `None` si ocurre un error.\n",
    "\n",
    "A continuación, se muestra el contenido del script `document_utils.py` para referencia."
   ]
  },
  {
   "cell_type": "code",
   "execution_count": null,
   "metadata": {},
   "outputs": [],
   "source": [
    "# Cargar el contenido del script document_utils.py\n",
    "%load ../scripts/document_utils.py"
   ]
  }
 ],
 "metadata": {
  "kernelspec": {
   "display_name": "Python 3 (ipykernel)",
   "language": "python",
   "name": "python3"
  },
  "language_info": {
   "codemirror_mode": {
    "name": "ipython",
    "version": 3
   },
   "file_extension": ".py",
   "mimetype": "text/x-python",
   "name": "python",
   "nbconvert_exporter": "python",
   "pygments_lexer": "ipython3",
   "version": "3.10.12"
  }
 },
 "nbformat": 4,
 "nbformat_minor": 5
}
