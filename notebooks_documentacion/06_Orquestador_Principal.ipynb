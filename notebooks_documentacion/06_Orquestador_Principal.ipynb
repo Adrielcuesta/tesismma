{
 "cells": [
  {
   "cell_type": "markdown",
   "metadata": {},
   "source": [
    "# Cuaderno de Documentación: 06 - Orquestador Principal (`main.py`)\n",
    "\n",
    "El script `scripts/main.py` es el punto de entrada principal para ejecutar el flujo completo del análisis de riesgos RAG. Su función es orquestar la ejecución secuencial de las diferentes etapas del proceso, llamando a las funciones apropiadas de los módulos auxiliares (`config.py`, `document_utils.py`, `vector_db_manager.py`, `rag_components.py`, y `report_utils.py`).\n",
    "\n",
    "## Flujo de Ejecución Orquestado por `main.py`\n",
    "\n",
    "La función `ejecutar_flujo_completo_analisis()` dentro de `main.py` sigue estos pasos:\n",
    "\n",
    "1.  **Carga de Configuración e Inicialización de Directorios:**\n",
    "    * Llama a `config.inicializar_directorios_datos()` para asegurar que todas las carpetas necesarias en `datos/` existan.\n",
    "    * Llama a `config.configure_google_api()` para configurar la API de Gemini utilizando la `GEMINI_API_KEY` cargada desde el archivo `.env`.\n",
    "\n",
    "2.  **Inicialización del Modelo de Embeddings:**\n",
    "    * Llama a `vector_db_manager.get_embedding_function()` pasando el `EMBEDDING_MODEL_NAME` desde `config.py` para obtener la función que convertirá texto a vectores.\n",
    "\n",
    "3.  **Gestión de la Base de Datos Vectorial:**\n",
    "    * Llama a `vector_db_manager.crear_o_cargar_chroma_db()`. Esta función:\n",
    "        * Utiliza la `embedding_function` obtenida en el paso anterior.\n",
    "        * Utiliza las rutas y parámetros de `config.py` (`CHROMA_DB_PATH`, `DOCS_BASE_CONOCIMIENTO_PATH`, `CHUNK_SIZE`, `CHUNK_OVERLAP`).\n",
    "        * Decide si crear una nueva base de datos o cargar una existente basándose en el flag `RECREAR_DB` de `config.py` y la existencia de la base de datos.\n",
    "\n",
    "4.  **Configuración del LLM y la Cadena RAG:**\n",
    "    * Llama a `rag_components.get_llm_instance()` para inicializar el modelo Gemini, pasando el `LLM_MODEL_NAME` y la `GEMINI_API_KEY` desde `config.py`.\n",
    "    * Llama a `rag_components.crear_cadena_rag()`, proporcionando la instancia del LLM, la instancia de la base de datos vectorial (`vector_db`) y el número de documentos a recuperar (`K_RETRIEVED_DOCS` de `config.py`).\n",
    "\n",
    "5.  **Procesamiento del Documento del Proyecto a Analizar:**\n",
    "    * Construye la ruta completa al PDF del proyecto utilizando `PROYECTO_A_ANALIZAR_PATH` y `NOMBRE_PDF_PROYECTO_ANALIZAR` de `config.py`.\n",
    "    * Llama a `document_utils.procesar_pdf_proyecto_para_analisis()` para cargar, fragmentar y concatenar el contenido del PDF del proyecto, aplicando también el truncamiento (`MAX_CHARS_PROYECTO`).\n",
    "\n",
    "6.  **Ejecución de la Consulta RAG:**\n",
    "    * Invoca la cadena `qa_chain` (obtenida en el paso 4) con la descripción del nuevo proyecto (obtenida en el paso 5) como la consulta (`query`).\n",
    "    * Recupera el resultado del LLM (`resultado_analisis_llm`) y los documentos fuente (`fuentes_recuperadas_docs`).\n",
    "    * Prepara los datos de las fuentes recuperadas para que sean serializables (guardando metadatos y un snippet del contenido).\n",
    "\n",
    "7.  **Formateo y Guardado del Reporte Final:**\n",
    "    * Llama a `report_utils.formatear_y_guardar_reporte()`, pasando la respuesta cruda del LLM, los datos de las fuentes recuperadas, y otros metadatos relevantes (nombre del proyecto, modelo LLM usado, ruta de salida de `config.py`). Esta función se encarga de parsear el JSON del LLM, asignar estados RAG y guardar el reporte final.\n",
    "\n",
    "## Ejecución\n",
    "\n",
    "Para ejecutar todo el proceso, el usuario simplemente necesita correr este script desde la línea de comandos (asegurándose de estar en el directorio `scripts/` y con el entorno virtual activado):\n",
    "```bash\n",
    "python main.py\n",
    "```\n",
    "El script imprimirá mensajes de progreso para cada etapa y, al finalizar, indicará dónde se ha guardado el reporte de análisis de riesgos.\n",
    "\n",
    "A continuación, se muestra el contenido del script `main.py` para referencia."
   ]
  },
  {
   "cell_type": "code",
   "execution_count": null,
   "metadata": {},
   "outputs": [],
   "source": [
    "# Cargar el contenido del script main.py\n",
    "%load ../scripts/main.py"
   ]
  }
 ],
 "metadata": {
  "kernelspec": {
   "display_name": "Python 3 (ipykernel)",
   "language": "python",
   "name": "python3"
  },
  "language_info": {
   "codemirror_mode": {
    "name": "ipython",
    "version": 3
   },
   "file_extension": ".py",
   "mimetype": "text/x-python",
   "name": "python",
   "nbconvert_exporter": "python",
   "pygments_lexer": "ipython3",
   "version": "3.10.12"
  }
 },
 "nbformat": 4,
 "nbformat_minor": 5
}
